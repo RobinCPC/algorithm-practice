{
 "metadata": {
  "name": "",
  "signature": "sha256:fb0c47e682c94e95bbe279e6c9fbb544b2b231f4be79d6134325ef529ecba4b6"
 },
 "nbformat": 3,
 "nbformat_minor": 0,
 "worksheets": [
  {
   "cells": [
    {
     "cell_type": "heading",
     "level": 2,
     "metadata": {},
     "source": [
      "Binary Tree"
     ]
    },
    {
     "cell_type": "heading",
     "level": 3,
     "metadata": {},
     "source": [
      "Python"
     ]
    },
    {
     "cell_type": "code",
     "collapsed": false,
     "input": [
      "class TreeNode:\n",
      "    def __init__(self, val):\n",
      "        self.val = val\n",
      "        self.left, self.right = None, None\n",
      "\n",
      "if __name__ == '__main__':\n",
      "    rootNode = TreeNode(5)\n",
      "    rootNode.left = TreeNode(4)\n",
      "    rootNode.right = TreeNode(6)\n",
      "    print rootNode.val\n",
      "    print rootNode.left.val\n",
      "    print rootNode.right.val\n"
     ],
     "language": "python",
     "metadata": {},
     "outputs": [
      {
       "output_type": "stream",
       "stream": "stdout",
       "text": [
        "5\n",
        "4\n",
        "6\n"
       ]
      }
     ],
     "prompt_number": 3
    },
    {
     "cell_type": "heading",
     "level": 3,
     "metadata": {},
     "source": [
      "C++"
     ]
    },
    {
     "cell_type": "markdown",
     "metadata": {},
     "source": [
      "``` c++\n",
      "struct TreeNode\n",
      "{\n",
      "    int val;\n",
      "    TreeNode* left;\n",
      "    TreeNode* right;\n",
      "    TreeNode(int x) : val(x), left(NULL), right(NULL){}\n",
      "};\n",
      "\n",
      "```\n"
     ]
    },
    {
     "cell_type": "heading",
     "level": 2,
     "metadata": {},
     "source": [
      "Tree traversal"
     ]
    },
    {
     "cell_type": "heading",
     "level": 3,
     "metadata": {},
     "source": [
      "Python"
     ]
    },
    {
     "cell_type": "code",
     "collapsed": false,
     "input": [
      "class TreeNode:\n",
      "    def __init__(self, val):\n",
      "        self.val = val\n",
      "        self.left, self.right = None, None\n",
      "\n",
      "class Traversal(object):\n",
      "    def __init__(self):\n",
      "        self.traverse_path = list()\n",
      "        \n",
      "    def preorder(self, root):\n",
      "        if root:\n",
      "            self.traverse_path.append(root.val)\n",
      "            self.preorder(root.left)\n",
      "            self.preorder(root.right)\n",
      "    \n",
      "    def inorder(self, root):\n",
      "        if root:\n",
      "            self.inorder(root.left)\n",
      "            self.traverse_path.append(root.val)\n",
      "            self.inorder(root.right)\n",
      "    \n",
      "    def postorder(self, root):\n",
      "        if root:\n",
      "            self.postorder(root.left)\n",
      "            self.postorder(root.right)\n",
      "            self.traverse_path.append(root.val)\n",
      "            \n",
      "if __name__ == '__main__':\n",
      "    root = TreeNode(1)\n",
      "    root.left = TreeNode(2)\n",
      "    root.left.left = TreeNode(3)\n",
      "    root.left.right = TreeNode(4)\n",
      "    root.right = TreeNode(5)\n",
      "    root.right.left = TreeNode(6)\n",
      "    \n",
      "    traver_pre = Traversal()\n",
      "    traver_pre.preorder(root)\n",
      "    print traver_pre.traverse_path\n",
      "    \n",
      "    traver_in = Traversal()\n",
      "    traver_in.inorder(root)\n",
      "    print traver_in.traverse_path\n",
      "    \n",
      "    traver_pos = Traversal()\n",
      "    traver_pos.postorder(root)\n",
      "    print traver_pos.traverse_path"
     ],
     "language": "python",
     "metadata": {},
     "outputs": [
      {
       "output_type": "stream",
       "stream": "stdout",
       "text": [
        "[1, 2, 3, 4, 5, 6]\n",
        "[3, 2, 4, 1, 6, 5]\n",
        "[3, 4, 2, 6, 5, 1]\n"
       ]
      }
     ],
     "prompt_number": 6
    },
    {
     "cell_type": "heading",
     "level": 3,
     "metadata": {},
     "source": [
      "C++"
     ]
    },
    {
     "cell_type": "markdown",
     "metadata": {},
     "source": [
      "``` c++\n",
      "#include <iostream>\n",
      "#include <vector>\n",
      "\n",
      "using std::vector;\n",
      "\n",
      "struct TreeNode\n",
      "{\n",
      "    int val;\n",
      "    TreeNode* left;\n",
      "    TreeNode* right;\n",
      "    TreeNode(int x) : val(x), left(nullptr), right(nullptr){}\n",
      "};\n",
      "\n",
      "class Traversal\n",
      "{\n",
      "public:\n",
      "    Traversal() {}\n",
      "    void preorder(TreeNode* root)\n",
      "    {\n",
      "        if(root != nullptr)\n",
      "        {\n",
      "            traverse_path.push_back(root->val);\n",
      "            preorder(root->left);\n",
      "            preorder(root->right);\n",
      "        }\n",
      "    }\n",
      "\n",
      "    void inorder(TreeNode* root)\n",
      "    {\n",
      "        if(root != nullptr)\n",
      "        {\n",
      "            preorder(root->left);\n",
      "            traverse_path.push_back(root->val);\n",
      "            preorder(root->right);\n",
      "        }\n",
      "    }\n",
      "\n",
      "    void postorder(TreeNode* root)\n",
      "    {\n",
      "        if(root != nullptr)\n",
      "        {\n",
      "            preorder(root->left);\n",
      "            preorder(root->right);\n",
      "            traverse_path.push_back(root->val);\n",
      "        }\n",
      "    }\n",
      "\n",
      "    std::vector<int> getPath()\n",
      "    {\n",
      "        return traverse_path;\n",
      "    }\n",
      "\n",
      "private:\n",
      "    std::vector<int> traverse_path;\n",
      "};\n",
      "\n",
      "\n",
      "int main( void)\n",
      "{\n",
      "    TreeNode* root = new TreeNode(1);\n",
      "    root->left = new TreeNode(2);\n",
      "    root->left->left = new TreeNode(3);\n",
      "    root->left->right = new TreeNode(4);\n",
      "    root->right = new TreeNode(5);\n",
      "    root->right->left = new TreeNode(6);\n",
      "\n",
      "    // pre-order traversal\n",
      "    Traversal traver_pre = Traversal();\n",
      "    traver_pre.preorder(root);\n",
      "    auto pre_path = traver_pre.getPath();\n",
      "    for ( std::vector<int>::iterator it = pre_path.begin(); it != pre_path.end(); ++it)\n",
      "    {\n",
      "        std::cout << *it << '\\t';\n",
      "    }\n",
      "    std::cout << '\\n';\n",
      "\n",
      "    // in-order traversal\n",
      "    Traversal traver_in = Traversal();\n",
      "    traver_in.inorder(root);\n",
      "    auto in_path = traver_in.getPath();\n",
      "    for ( std::vector<int>::iterator it = in_path.begin(); it != in_path.end(); ++it)\n",
      "    {\n",
      "        std::cout << *it << '\\t';\n",
      "    }\n",
      "    std::cout << '\\n';\n",
      "\n",
      "    // post-order traversal\n",
      "    Traversal traver_post = Traversal();\n",
      "    traver_post.postorder(root);\n",
      "    auto post_path = traver_post.getPath();\n",
      "    for ( std::vector<int>::iterator it = post_path.begin(); it != post_path.end(); ++it)\n",
      "    {\n",
      "        std::cout << *it << '\\t';\n",
      "    }\n",
      "    std::cout << '\\n';\n",
      "\n",
      "\n",
      "    return 0;\n",
      "}\n",
      "```"
     ]
    }
   ],
   "metadata": {}
  }
 ]
}