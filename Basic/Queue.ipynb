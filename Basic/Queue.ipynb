{
 "metadata": {
  "name": "",
  "signature": "sha256:2ca678fc54bbfb2d32b4b043c02b1a615efc45dd5a07bb8545c1853c152fd274"
 },
 "nbformat": 3,
 "nbformat_minor": 0,
 "worksheets": [
  {
   "cells": [
    {
     "cell_type": "heading",
     "level": 2,
     "metadata": {},
     "source": [
      "Queue"
     ]
    },
    {
     "cell_type": "heading",
     "level": 3,
     "metadata": {},
     "source": [
      "Python"
     ]
    },
    {
     "cell_type": "code",
     "collapsed": false,
     "input": [
      "\"\"\"\n",
      "    Implementation of queue in Python (with List)\n",
      "    Source:\n",
      "        http://interactivepython.org/runestone/static/pythonds/BasicDS/ImplementingaQueueinPython.html\n",
      "\"\"\"\n",
      "\n",
      "class Queue:\n",
      "    def __init__(self):\n",
      "        \"\"\"initialize queue with empty list\n",
      "        \"\"\"\n",
      "        self.items = []\n",
      "\n",
      "    def isEmpty(self):\n",
      "        \"\"\"check if it is empty\n",
      "        \"\"\"\n",
      "        return self.items == []\n",
      "\n",
      "    def enqueue(self, item):\n",
      "        self.items.insert(0, item)\n",
      "\n",
      "    def dequeue(self):\n",
      "        return self.items.pop()\n",
      "\n",
      "    def size(self):\n",
      "        return len(self.items)\n",
      "\n",
      "\n",
      "def hotPotato(namelist, num):\n",
      "    simqueue = Queue()\n",
      "    for name in namelist:\n",
      "        simqueue.enqueue(name)\n",
      "\n",
      "    while simqueue.size() > 1:\n",
      "        for i in range(num):\n",
      "            simqueue.enqueue(simqueue.dequeue())\n",
      "\n",
      "        simqueue.dequeue()\n",
      "    return simqueue.dequeue()\n",
      "\n",
      "\n",
      "if __name__ == \"__main__\":\n",
      "    q = Queue()\n",
      "\n",
      "    q.enqueue(4)\n",
      "    q.enqueue('dog')\n",
      "    q.enqueue(True)\n",
      "    print(q.size())\n",
      "    print q.isEmpty()\n",
      "    q.enqueue(8.4)\n",
      "    print q.dequeue()\n",
      "    print q.dequeue()\n",
      "\n",
      "    print \"hot potato\"\n",
      "    print hotPotato([\"Bill\", \"David\", \"Susan\", \"Jane\", \"Kent\", \"Brad\"], 7)"
     ],
     "language": "python",
     "metadata": {},
     "outputs": [
      {
       "output_type": "stream",
       "stream": "stdout",
       "text": [
        "3\n",
        "False\n",
        "4\n",
        "dog\n",
        "hot potato\n",
        "Susan\n"
       ]
      }
     ],
     "prompt_number": 1
    },
    {
     "cell_type": "heading",
     "level": 3,
     "metadata": {},
     "source": [
      "TODO: add priority queue."
     ]
    },
    {
     "cell_type": "code",
     "collapsed": false,
     "input": [],
     "language": "python",
     "metadata": {},
     "outputs": []
    }
   ],
   "metadata": {}
  }
 ]
}