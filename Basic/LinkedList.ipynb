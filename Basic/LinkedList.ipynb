{
 "cells": [
  {
   "cell_type": "markdown",
   "metadata": {},
   "source": [
    "## Singly Linked List"
   ]
  },
  {
   "cell_type": "markdown",
   "metadata": {},
   "source": [
    "### Python"
   ]
  },
  {
   "cell_type": "code",
   "execution_count": 13,
   "metadata": {
    "collapsed": false
   },
   "outputs": [
    {
     "name": "stdout",
     "output_type": "stream",
     "text": [
      "5\n",
      "4\n",
      "3\n",
      "reversed linked list\n",
      "3\n",
      "4\n",
      "5\n"
     ]
    }
   ],
   "source": [
    "class ListNode:\n",
    "    def __init__(self, val):\n",
    "        self.val = val\n",
    "        self.next = None\n",
    "    \n",
    "    # in python next is a reversed word    \n",
    "    def reverse(self, head):\n",
    "        prev = None\n",
    "        head = self\n",
    "        while head:\n",
    "            temp = head.next\n",
    "            head.next = prev\n",
    "            prev = head\n",
    "            head = temp\n",
    "        return prev\n",
    "\n",
    "lk1 = ListNode(5)\n",
    "lk1.next = ListNode(4)\n",
    "lk1.next.next = ListNode(3)\n",
    "\n",
    "print lk1.val\n",
    "print lk1.next.val\n",
    "print lk1.next.next.val\n",
    "rev_lk = lk1.reverse(lk1)\n",
    "\n",
    "print 'reversed linked list'\n",
    "print rev_lk.val\n",
    "print rev_lk.next.val\n",
    "print rev_lk.next.next.val\n"
   ]
  },
  {
   "cell_type": "markdown",
   "metadata": {},
   "source": [
    "### C++ "
   ]
  },
  {
   "cell_type": "markdown",
   "metadata": {},
   "source": [
    "``` c++\n",
    "#inlcude <iostream>\n",
    "struct ListNode\n",
    "{\n",
    "    int val;\n",
    "    ListNode *next;\n",
    "    ListNode(int val, ListNode *next=NULL):val(val), next(next){};\n",
    "};\n",
    "\n",
    "ListNode *Reverseist(ListNode *head)\n",
    "{\n",
    "    ListNode *pre = NULL, *tmp;\n",
    "    while(head)\n",
    "    {\n",
    "        tmp = head->next;\n",
    "        head->next = pre;\n",
    "        pre = head;\n",
    "        head = tmp;\n",
    "    }\n",
    "    return pre;\n",
    "}\n",
    "\n",
    "```"
   ]
  },
  {
   "cell_type": "markdown",
   "metadata": {},
   "source": [
    "## Dual Linked List"
   ]
  },
  {
   "cell_type": "markdown",
   "metadata": {},
   "source": [
    "### Python "
   ]
  },
  {
   "cell_type": "code",
   "execution_count": 1,
   "metadata": {
    "collapsed": true
   },
   "outputs": [],
   "source": [
    "class DListNode:\n",
    "    def __init__(self, val):\n",
    "        self.val = val\n",
    "        self.prev = self.next = None\n",
    "        \n",
    "    def reverse(self, head):\n",
    "        curt = None\n",
    "        while head:\n",
    "            curt = head\n",
    "            head = curt.next\n",
    "            curt.next = curt.prev\n",
    "            curt.prev = head\n",
    "        return curt\n"
   ]
  },
  {
   "cell_type": "markdown",
   "metadata": {
    "collapsed": true
   },
   "source": [
    "### TODO: add dual linked list for c++"
   ]
  }
 ],
 "metadata": {
  "kernelspec": {
   "display_name": "Python 2",
   "language": "python",
   "name": "python2"
  },
  "language_info": {
   "codemirror_mode": {
    "name": "ipython",
    "version": 2
   },
   "file_extension": ".py",
   "mimetype": "text/x-python",
   "name": "python",
   "nbconvert_exporter": "python",
   "pygments_lexer": "ipython2",
   "version": "2.7.6"
  }
 },
 "nbformat": 4,
 "nbformat_minor": 0
}
