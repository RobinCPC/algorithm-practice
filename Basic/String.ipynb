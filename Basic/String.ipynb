{
 "cells": [
  {
   "cell_type": "markdown",
   "metadata": {},
   "source": [
    "# Python"
   ]
  },
  {
   "cell_type": "code",
   "execution_count": 8,
   "metadata": {
    "collapsed": true
   },
   "outputs": [
    {
     "name": "stdout",
     "output_type": "stream",
     "text": [
      "chen\n",
      "chen\n",
      "robin\n",
      "robinchen\n",
      "n\n",
      "5\n",
      "5\n"
     ]
    }
   ],
   "source": [
    "s1 = str()\n",
    "# in python `\"` or `\"\"` is the same\n",
    "s2 = 'robinchen'\n",
    "s2len = len(s2)\n",
    "# last three char\n",
    "print s2[-4:] # chen\n",
    "print s2[5:9] # chen\n",
    "s3 = s2[:5] # robin\n",
    "print s3\n",
    "s3 += 'chen'\n",
    "print s3\n",
    "\n",
    "# list in python is the same as ArrayList in Java\n",
    "s2List = list(s3)\n",
    "print s2[4] #n\n",
    "# find index at the first\n",
    "print s2.index('c')\n",
    "print s2.find('c')"
   ]
  },
  {
   "cell_type": "markdown",
   "metadata": {},
   "source": [
    "### In python, there is no StringBuffer or String Builder. It is cheaper to use string in Python.  "
   ]
  },
  {
   "cell_type": "markdown",
   "metadata": {},
   "source": [
    "# C++\n",
    "\n",
    "``` C++\n",
    "#include <string>\n",
    "\n",
    "// dynamic\n",
    "string s1 = new string(\"helloworld\");\n",
    "\n",
    "// static\n",
    "string s2 = \"robin\";\n",
    "int s2len = s2.length();\n",
    "s2 += \"chen\";\n",
    "s2.substr(3,4);\n",
    "s2.append(\"Jr.\");\n",
    "size_t ind = s2.find('c');\n",
    "\n",
    "#include <cstring>\n",
    "// copy to char array (mutable)   \n",
    "const char *cstr = s2.c_str();\n",
    "cout << \"c_string (char arry) = \" << cstr << endl;\n",
    "\n",
    "// copy to an non-mutable char array\n",
    "char *cstr2 = new char[s2.length() + 1];\n",
    "strcpy(cstr2, s2.c_str());\n",
    "    \n",
    "cstr2[5]='z';\n",
    "cout << \"cstr2 = \" << cstr2 << endl;\n",
    "delete [] cstr2;\n",
    "```"
   ]
  }
 ],
 "metadata": {
  "kernelspec": {
   "display_name": "Python 2",
   "language": "python",
   "name": "python2"
  },
  "language_info": {
   "codemirror_mode": {
    "name": "ipython",
    "version": 2
   },
   "file_extension": ".py",
   "mimetype": "text/x-python",
   "name": "python",
   "nbconvert_exporter": "python",
   "pygments_lexer": "ipython2",
   "version": "2.7.6"
  }
 },
 "nbformat": 4,
 "nbformat_minor": 0
}
